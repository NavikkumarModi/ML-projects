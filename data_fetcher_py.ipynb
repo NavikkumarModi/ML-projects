{
  "nbformat": 4,
  "nbformat_minor": 0,
  "metadata": {
    "colab": {
      "name": "data_fetcher.py",
      "provenance": [],
      "collapsed_sections": [],
      "authorship_tag": "ABX9TyN1gafsBnSZ6VCPSOK2woto",
      "include_colab_link": true
    },
    "kernelspec": {
      "name": "python3",
      "display_name": "Python 3"
    }
  },
  "cells": [
    {
      "cell_type": "markdown",
      "metadata": {
        "id": "view-in-github",
        "colab_type": "text"
      },
      "source": [
        "<a href=\"https://colab.research.google.com/github/NavikkumarModi/ML-projects/blob/master/data_fetcher_py.ipynb\" target=\"_parent\"><img src=\"https://colab.research.google.com/assets/colab-badge.svg\" alt=\"Open In Colab\"/></a>"
      ]
    },
    {
      "cell_type": "code",
      "metadata": {
        "id": "DURda1TtwdMr",
        "colab_type": "code",
        "colab": {
          "base_uri": "https://localhost:8080/",
          "height": 275
        },
        "outputId": "7e411a07-198b-4d42-953d-78d89126fea3"
      },
      "source": [
        "pip install nsepy"
      ],
      "execution_count": 7,
      "outputs": [
        {
          "output_type": "stream",
          "text": [
            "Requirement already satisfied: nsepy in /usr/local/lib/python3.6/dist-packages (0.8)\n",
            "Requirement already satisfied: beautifulsoup4 in /usr/local/lib/python3.6/dist-packages (from nsepy) (4.6.3)\n",
            "Requirement already satisfied: numpy in /usr/local/lib/python3.6/dist-packages (from nsepy) (1.18.5)\n",
            "Requirement already satisfied: click in /usr/local/lib/python3.6/dist-packages (from nsepy) (7.1.2)\n",
            "Requirement already satisfied: pandas in /usr/local/lib/python3.6/dist-packages (from nsepy) (1.0.5)\n",
            "Requirement already satisfied: six in /usr/local/lib/python3.6/dist-packages (from nsepy) (1.12.0)\n",
            "Requirement already satisfied: requests in /usr/local/lib/python3.6/dist-packages (from nsepy) (2.23.0)\n",
            "Requirement already satisfied: lxml in /usr/local/lib/python3.6/dist-packages (from nsepy) (4.2.6)\n",
            "Requirement already satisfied: pytz>=2017.2 in /usr/local/lib/python3.6/dist-packages (from pandas->nsepy) (2018.9)\n",
            "Requirement already satisfied: python-dateutil>=2.6.1 in /usr/local/lib/python3.6/dist-packages (from pandas->nsepy) (2.8.1)\n",
            "Requirement already satisfied: chardet<4,>=3.0.2 in /usr/local/lib/python3.6/dist-packages (from requests->nsepy) (3.0.4)\n",
            "Requirement already satisfied: certifi>=2017.4.17 in /usr/local/lib/python3.6/dist-packages (from requests->nsepy) (2020.6.20)\n",
            "Requirement already satisfied: idna<3,>=2.5 in /usr/local/lib/python3.6/dist-packages (from requests->nsepy) (2.9)\n",
            "Requirement already satisfied: urllib3!=1.25.0,!=1.25.1,<1.26,>=1.21.1 in /usr/local/lib/python3.6/dist-packages (from requests->nsepy) (1.24.3)\n"
          ],
          "name": "stdout"
        }
      ]
    },
    {
      "cell_type": "code",
      "metadata": {
        "id": "oQN7fgKZfb-k",
        "colab_type": "code",
        "colab": {
          "base_uri": "https://localhost:8080/",
          "height": 289
        },
        "outputId": "c06aa8b9-ca25-4e5d-a88c-f083c5763044"
      },
      "source": [
        "import pandas_datareader.data as web\n",
        "import pandas as pd\n",
        "import os\n",
        "import datetime\n",
        "import time\n",
        "import dateutil\n",
        "import nsepy\n",
        "\n",
        "\n",
        "# scraps NSE website using beautiful soup.\n",
        "# gets the following: https://www.nseindia.com/products/dynaContent/common/productsSymbolMapping.jsp?toDate=10-01-2017&symbolCount=1&dataType=PRICEVOLUMEDELIVERABLE&series=EQ&dateRange=&fromDate=01-01-2017&segmentLink=3&symbol=SBIN\n",
        "# NO HAVE adjusted close, instead has turnover, no. of trades, VWAP, etc.\n",
        "# get adjusted close from yahoo, using private func. below.\n",
        "\n",
        "# search NSE symbol: https://www.nseindia.com/products/content/equities/equities/eq_security.htm\n",
        "# search symbols here: https://finance.yahoo.com/lookup\n",
        "def get_data_for_symbol(symbol, yahoo_symbol, startDate, endDate):\n",
        "\n",
        "    directory = 'nse_data'\n",
        "    if not os.path.exists(directory):\n",
        "        os.makedirs(directory)\n",
        "\n",
        "    fileName = directory+'/'+symbol+str(startDate)+str(endDate)+'.csv'\n",
        "    print(fileName)\n",
        "    allow_reading_file = True\n",
        "    if os.path.isfile(fileName) and allow_reading_file:\n",
        "        # check symbol_date.csv, if present, read and return it\n",
        "        print('reading from file:  '+fileName)\n",
        "        df_temp = pd.read_csv(fileName, index_col='Date',\n",
        "                              parse_dates=True, na_values=['nan'])\n",
        "\n",
        "        return df_temp\n",
        "    else:\n",
        "        print('fetching data from API for '+symbol)\n",
        "        # get data from API\n",
        "\n",
        "        # doesn't return ALL data !!\n",
        "        stock_data = nsepy.get_history(symbol=symbol,\n",
        "                                       start=startDate,\n",
        "                                       end=endDate)\n",
        "        print('stock_data from NSE')\n",
        "        print(stock_data.shape)\n",
        "        print(stock_data.head())\n",
        "\n",
        "        # get adjusted close from yahoo.\n",
        "        df_temp = __download_data([yahoo_symbol],startDate, endDate)\n",
        "\n",
        "        # JOIN adjusted close.\n",
        "        stock_data = stock_data.join(df_temp)\n",
        "        stock_data = stock_data.dropna(subset=[\"Adj Close\"])\n",
        "\n",
        "        # save to file\n",
        "        stock_data.to_csv(fileName)\n",
        "\n",
        "    # print stock_data\n",
        "    return stock_data\n",
        "\n",
        "\n",
        "# get from yahoo/google\n",
        "# has limited data, but has adjusted close\n",
        "# pass date objects\n",
        "# search symbols here: https://finance.yahoo.com/lookup\n",
        "# private function.\n",
        "def __download_data(ticker,start,end,write_to_file=False):\n",
        "    count = 1\n",
        "    startDate = str(start)\n",
        "    endDate = str(end)\n",
        "\n",
        "    directory = 'yahoo_data'\n",
        "    if not os.path.exists(directory):\n",
        "        os.makedirs(directory)\n",
        "\n",
        "    filename = directory+'/'+ticker[0]+'.csv'\n",
        "\n",
        "    panel_data = web.DataReader(ticker,\"yahoo\",startDate,endDate)\n",
        "    final_df = panel_data['Adj Close']\n",
        "    final_df = final_df.rename(columns={ticker[0]:'Adj Close'})\n",
        "\n",
        "    if write_to_file:\n",
        "        final_df.to_csv(filename)\n",
        "        print(filename)\n",
        "    print('final_df from Yahoo is:')\n",
        "    print(final_df.shape)\n",
        "    print(final_df.head())\n",
        "\n",
        "    return final_df\n",
        "\n",
        "\n",
        "def list_available_symbols():\n",
        "    print('pending listAvailableSymbols')\n",
        "    #list as table NSE symbol and matching Yahoo symbol.\n",
        "    #possiblly save to file as well.\n",
        "\n",
        "\n",
        "def update_data_for_symbol(symbol):\n",
        "    print('pending')\n",
        "    #read file, get data from last date to current date\n",
        "    #append data to file.\n",
        "\n",
        "\n",
        "if __name__ == '__main__':\n",
        "    startDate = datetime.date(2000, 1, 1)\n",
        "    endDate = datetime.date.today()\n",
        "    print(__download_data(['RELIANCE.NS'],startDate,endDate).head())\n",
        "    # get_data_for_symbol('RELIANCE', 'RELIANCE.NS', startDate, endDate)\n"
      ],
      "execution_count": 9,
      "outputs": [
        {
          "output_type": "stream",
          "text": [
            "final_df from Yahoo is:\n",
            "(5060, 1)\n",
            "Symbols     Adj Close\n",
            "Date                 \n",
            "2000-01-03  16.380438\n",
            "2000-01-04  17.691788\n",
            "2000-01-05  18.384905\n",
            "2000-01-06  19.156059\n",
            "2000-01-07  20.470661\n",
            "Symbols     Adj Close\n",
            "Date                 \n",
            "2000-01-03  16.380438\n",
            "2000-01-04  17.691788\n",
            "2000-01-05  18.384905\n",
            "2000-01-06  19.156059\n",
            "2000-01-07  20.470661\n"
          ],
          "name": "stdout"
        }
      ]
    }
  ]
}