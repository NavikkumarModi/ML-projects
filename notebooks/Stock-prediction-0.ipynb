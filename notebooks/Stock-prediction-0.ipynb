{
 "cells": [
  {
   "cell_type": "markdown",
   "metadata": {},
   "source": [
    "Objective: predict the time to the first bag on the luggage retrieval belt, as soon as the plane is on block"
   ]
  },
  {
   "cell_type": "code",
   "execution_count": 1,
   "metadata": {
    "ExecuteTime": {
     "end_time": "2019-08-11T12:14:05.499000Z",
     "start_time": "2019-08-11T12:14:04.876000Z"
    }
   },
   "outputs": [],
   "source": [
    "%run imports.py\n",
    "\n",
    "import gym\n",
    "import pandas as pd\n",
    "import numpy as np\n",
    "from gym import spaces\n",
    "from sklearn import preprocessing"
   ]
  },
  {
   "cell_type": "code",
   "execution_count": 4,
   "metadata": {},
   "outputs": [],
   "source": [
    "class BitcoinTradingEnv(gym.Env):\n",
    "    \"\"\"A Bitcoin trading environment for OpenAI gym\"\"\"\n",
    "    metadata = {'render.modes': ['live', 'file', 'none']}\n",
    "    scaler = preprocessing.MinMaxScaler()\n",
    "    viewer = None\n",
    "    def __init__(self, df, lookback_window_size=50, \n",
    "                             commission=0.00075,  \n",
    "                             initial_balance=10000,\n",
    "                             serial=False):\n",
    "        super(BitcoinTradingEnv, self).__init__()\n",
    "        self.df = df.dropna().reset_index()\n",
    "        self.lookback_window_size = lookback_window_size\n",
    "        self.initial_balance = initial_balance\n",
    "        self.commission = commission\n",
    "        self.serial = serial\n",
    "      # Actions of the format Buy 1/10, Sell 3/10, Hold, etc.\n",
    "        self.action_space = spaces.MultiDiscrete([3, 10])\n",
    "      # Observes the OHCLV values, net worth, and trade history\n",
    "        self.observation_space = spaces.Box(low=0, high=1, shape=(10, \n",
    "                        lookback_window_size + 1), dtype=np.float16)"
   ]
  },
  {
   "cell_type": "markdown",
   "metadata": {},
   "source": [
    "explore the raw data"
   ]
  },
  {
   "cell_type": "code",
   "execution_count": 2,
   "metadata": {},
   "outputs": [],
   "source": [
    "#Load excel data\n",
    "df = pd.read_excel(os.path.join('..', 'data', 'OPS Last bag performance_01MAY17_30APR18.xlsx'))"
   ]
  },
  {
   "cell_type": "code",
   "execution_count": 3,
   "metadata": {},
   "outputs": [
    {
     "data": {
      "text/plain": [
       "(102355, 21)"
      ]
     },
     "execution_count": 3,
     "metadata": {},
     "output_type": "execute_result"
    },
    {
     "data": {
      "text/html": [
       "<div>\n",
       "<style scoped>\n",
       "    .dataframe tbody tr th:only-of-type {\n",
       "        vertical-align: middle;\n",
       "    }\n",
       "\n",
       "    .dataframe tbody tr th {\n",
       "        vertical-align: top;\n",
       "    }\n",
       "\n",
       "    .dataframe thead th {\n",
       "        text-align: right;\n",
       "    }\n",
       "</style>\n",
       "<table border=\"1\" class=\"dataframe\">\n",
       "  <thead>\n",
       "    <tr style=\"text-align: right;\">\n",
       "      <th></th>\n",
       "      <th>ScheduledDate</th>\n",
       "      <th>ScheduledArrivalTime</th>\n",
       "      <th>Flight</th>\n",
       "      <th>Airline</th>\n",
       "      <th>Flightnumber</th>\n",
       "      <th>Aircraft Type</th>\n",
       "      <th>Aircraft Subtype</th>\n",
       "      <th>Offered Seats</th>\n",
       "      <th>Acsbbgcl</th>\n",
       "      <th>Acft type</th>\n",
       "      <th>Handler</th>\n",
       "      <th>Flights</th>\n",
       "      <th>FirstBag</th>\n",
       "      <th>LastBag</th>\n",
       "      <th>Touchdown</th>\n",
       "      <th>OnBlockTime</th>\n",
       "      <th>Month</th>\n",
       "      <th>Day</th>\n",
       "      <th>No First Bag</th>\n",
       "      <th>No Last Bag</th>\n",
       "      <th>Parking Number</th>\n",
       "    </tr>\n",
       "  </thead>\n",
       "  <tbody>\n",
       "    <tr>\n",
       "      <th>0</th>\n",
       "      <td>2017-05-01</td>\n",
       "      <td>2017-05-01 00:30:00</td>\n",
       "      <td>TB 7242</td>\n",
       "      <td>TB</td>\n",
       "      <td>7242</td>\n",
       "      <td>737</td>\n",
       "      <td>73H</td>\n",
       "      <td>189</td>\n",
       "      <td>C</td>\n",
       "      <td>Type C</td>\n",
       "      <td>AP</td>\n",
       "      <td>1</td>\n",
       "      <td>2017-05-01 00:55:29</td>\n",
       "      <td>2017-05-01 00:59:52</td>\n",
       "      <td>2017-05-01 00:33:00</td>\n",
       "      <td>2017-05-01 00:40:00</td>\n",
       "      <td>1904-05-15</td>\n",
       "      <td>1</td>\n",
       "      <td>NaN</td>\n",
       "      <td>NaN</td>\n",
       "      <td>165R</td>\n",
       "    </tr>\n",
       "    <tr>\n",
       "      <th>1</th>\n",
       "      <td>2017-05-01</td>\n",
       "      <td>2017-05-01 00:30:00</td>\n",
       "      <td>TB 7664</td>\n",
       "      <td>TB</td>\n",
       "      <td>7664</td>\n",
       "      <td>737</td>\n",
       "      <td>73W</td>\n",
       "      <td>148</td>\n",
       "      <td>B</td>\n",
       "      <td>Type B</td>\n",
       "      <td>AP</td>\n",
       "      <td>1</td>\n",
       "      <td>2017-05-01 00:42:37</td>\n",
       "      <td>2017-05-01 00:47:43</td>\n",
       "      <td>2017-05-01 00:20:00</td>\n",
       "      <td>2017-05-01 00:26:00</td>\n",
       "      <td>1904-05-15</td>\n",
       "      <td>1</td>\n",
       "      <td>NaN</td>\n",
       "      <td>NaN</td>\n",
       "      <td>208</td>\n",
       "    </tr>\n",
       "    <tr>\n",
       "      <th>2</th>\n",
       "      <td>2017-05-01</td>\n",
       "      <td>2017-05-01 00:55:00</td>\n",
       "      <td>TB 7478</td>\n",
       "      <td>TB</td>\n",
       "      <td>7478</td>\n",
       "      <td>32S</td>\n",
       "      <td>320</td>\n",
       "      <td>167</td>\n",
       "      <td>B</td>\n",
       "      <td>Type B</td>\n",
       "      <td>AP</td>\n",
       "      <td>1</td>\n",
       "      <td>2017-05-01 01:09:48</td>\n",
       "      <td>2017-05-01 01:16:36</td>\n",
       "      <td>2017-05-01 00:42:00</td>\n",
       "      <td>2017-05-01 00:50:00</td>\n",
       "      <td>1904-05-15</td>\n",
       "      <td>1</td>\n",
       "      <td>NaN</td>\n",
       "      <td>NaN</td>\n",
       "      <td>152</td>\n",
       "    </tr>\n",
       "    <tr>\n",
       "      <th>3</th>\n",
       "      <td>2017-05-01</td>\n",
       "      <td>2017-05-01 01:40:00</td>\n",
       "      <td>FHY 7361</td>\n",
       "      <td>FHY</td>\n",
       "      <td>7361</td>\n",
       "      <td>32S</td>\n",
       "      <td>320</td>\n",
       "      <td>180</td>\n",
       "      <td>B</td>\n",
       "      <td>Type B</td>\n",
       "      <td>BS</td>\n",
       "      <td>1</td>\n",
       "      <td>2017-05-01 02:17:07</td>\n",
       "      <td>2017-05-01 02:22:07</td>\n",
       "      <td>2017-05-01 02:02:00</td>\n",
       "      <td>2017-05-01 02:07:00</td>\n",
       "      <td>1904-05-15</td>\n",
       "      <td>1</td>\n",
       "      <td>NaN</td>\n",
       "      <td>NaN</td>\n",
       "      <td>209</td>\n",
       "    </tr>\n",
       "    <tr>\n",
       "      <th>4</th>\n",
       "      <td>2017-05-01</td>\n",
       "      <td>2017-05-01 01:45:00</td>\n",
       "      <td>CAI  721</td>\n",
       "      <td>CAI</td>\n",
       "      <td>721</td>\n",
       "      <td>737</td>\n",
       "      <td>73H</td>\n",
       "      <td>189</td>\n",
       "      <td>C</td>\n",
       "      <td>Type C</td>\n",
       "      <td>BS</td>\n",
       "      <td>1</td>\n",
       "      <td>2017-05-01 01:36:24</td>\n",
       "      <td>2017-05-01 01:39:28</td>\n",
       "      <td>2017-05-01 01:12:00</td>\n",
       "      <td>2017-05-01 01:19:00</td>\n",
       "      <td>1904-05-15</td>\n",
       "      <td>1</td>\n",
       "      <td>NaN</td>\n",
       "      <td>NaN</td>\n",
       "      <td>211R</td>\n",
       "    </tr>\n",
       "    <tr>\n",
       "      <th>5</th>\n",
       "      <td>2017-05-01</td>\n",
       "      <td>2017-05-01 05:10:00</td>\n",
       "      <td>SN  206</td>\n",
       "      <td>SN</td>\n",
       "      <td>206</td>\n",
       "      <td>330</td>\n",
       "      <td>333</td>\n",
       "      <td>297</td>\n",
       "      <td>C</td>\n",
       "      <td>Type C</td>\n",
       "      <td>BS</td>\n",
       "      <td>1</td>\n",
       "      <td>2017-05-01 05:34:15</td>\n",
       "      <td>2017-05-01 06:03:48</td>\n",
       "      <td>2017-05-01 05:04:00</td>\n",
       "      <td>2017-05-01 05:09:00</td>\n",
       "      <td>1904-05-15</td>\n",
       "      <td>1</td>\n",
       "      <td>NaN</td>\n",
       "      <td>NaN</td>\n",
       "      <td>240</td>\n",
       "    </tr>\n",
       "    <tr>\n",
       "      <th>6</th>\n",
       "      <td>2017-05-01</td>\n",
       "      <td>2017-05-01 05:10:00</td>\n",
       "      <td>SN  372</td>\n",
       "      <td>SN</td>\n",
       "      <td>372</td>\n",
       "      <td>330</td>\n",
       "      <td>333</td>\n",
       "      <td>288</td>\n",
       "      <td>C</td>\n",
       "      <td>Type C</td>\n",
       "      <td>BS</td>\n",
       "      <td>1</td>\n",
       "      <td>2017-05-01 05:45:03</td>\n",
       "      <td>2017-05-01 05:54:48</td>\n",
       "      <td>2017-05-01 05:16:00</td>\n",
       "      <td>2017-05-01 05:22:00</td>\n",
       "      <td>1904-05-15</td>\n",
       "      <td>1</td>\n",
       "      <td>NaN</td>\n",
       "      <td>NaN</td>\n",
       "      <td>210L</td>\n",
       "    </tr>\n",
       "    <tr>\n",
       "      <th>7</th>\n",
       "      <td>2017-05-01</td>\n",
       "      <td>2017-05-01 06:05:00</td>\n",
       "      <td>SN  286</td>\n",
       "      <td>SN</td>\n",
       "      <td>286</td>\n",
       "      <td>330</td>\n",
       "      <td>333</td>\n",
       "      <td>288</td>\n",
       "      <td>C</td>\n",
       "      <td>Type C</td>\n",
       "      <td>BS</td>\n",
       "      <td>1</td>\n",
       "      <td>2017-05-01 06:25:48</td>\n",
       "      <td>2017-05-01 06:34:06</td>\n",
       "      <td>2017-05-01 05:53:00</td>\n",
       "      <td>2017-05-01 06:01:00</td>\n",
       "      <td>1904-05-15</td>\n",
       "      <td>1</td>\n",
       "      <td>NaN</td>\n",
       "      <td>NaN</td>\n",
       "      <td>206L</td>\n",
       "    </tr>\n",
       "    <tr>\n",
       "      <th>8</th>\n",
       "      <td>2017-05-01</td>\n",
       "      <td>2017-05-01 06:15:00</td>\n",
       "      <td>TB 6052</td>\n",
       "      <td>TB</td>\n",
       "      <td>6052</td>\n",
       "      <td>737</td>\n",
       "      <td>73H</td>\n",
       "      <td>189</td>\n",
       "      <td>C</td>\n",
       "      <td>Type C</td>\n",
       "      <td>AP</td>\n",
       "      <td>1</td>\n",
       "      <td>2017-05-01 07:16:46</td>\n",
       "      <td>2017-05-01 07:21:58</td>\n",
       "      <td>2017-05-01 06:33:00</td>\n",
       "      <td>2017-05-01 06:41:00</td>\n",
       "      <td>1904-05-15</td>\n",
       "      <td>1</td>\n",
       "      <td>NaN</td>\n",
       "      <td>NaN</td>\n",
       "      <td>157R</td>\n",
       "    </tr>\n",
       "    <tr>\n",
       "      <th>9</th>\n",
       "      <td>2017-05-01</td>\n",
       "      <td>2017-05-01 06:35:00</td>\n",
       "      <td>SN  359</td>\n",
       "      <td>SN</td>\n",
       "      <td>359</td>\n",
       "      <td>330</td>\n",
       "      <td>332</td>\n",
       "      <td>264</td>\n",
       "      <td>C</td>\n",
       "      <td>Type C</td>\n",
       "      <td>BS</td>\n",
       "      <td>1</td>\n",
       "      <td>2017-05-01 07:11:18</td>\n",
       "      <td>2017-05-01 07:37:55</td>\n",
       "      <td>2017-05-01 06:49:00</td>\n",
       "      <td>2017-05-01 06:54:00</td>\n",
       "      <td>1904-05-15</td>\n",
       "      <td>1</td>\n",
       "      <td>NaN</td>\n",
       "      <td>NaN</td>\n",
       "      <td>237L</td>\n",
       "    </tr>\n",
       "  </tbody>\n",
       "</table>\n",
       "</div>"
      ],
      "text/plain": [
       "  ScheduledDate ScheduledArrivalTime    Flight Airline  Flightnumber  \\\n",
       "0    2017-05-01  2017-05-01 00:30:00   TB 7242      TB          7242   \n",
       "1    2017-05-01  2017-05-01 00:30:00   TB 7664      TB          7664   \n",
       "2    2017-05-01  2017-05-01 00:55:00   TB 7478      TB          7478   \n",
       "3    2017-05-01  2017-05-01 01:40:00  FHY 7361     FHY          7361   \n",
       "4    2017-05-01  2017-05-01 01:45:00  CAI  721     CAI           721   \n",
       "5    2017-05-01  2017-05-01 05:10:00   SN  206      SN           206   \n",
       "6    2017-05-01  2017-05-01 05:10:00   SN  372      SN           372   \n",
       "7    2017-05-01  2017-05-01 06:05:00   SN  286      SN           286   \n",
       "8    2017-05-01  2017-05-01 06:15:00   TB 6052      TB          6052   \n",
       "9    2017-05-01  2017-05-01 06:35:00   SN  359      SN           359   \n",
       "\n",
       "  Aircraft Type Aircraft Subtype  Offered Seats Acsbbgcl Acft type Handler  \\\n",
       "0           737              73H            189        C    Type C      AP   \n",
       "1           737              73W            148        B    Type B      AP   \n",
       "2           32S              320            167        B    Type B      AP   \n",
       "3           32S              320            180        B    Type B      BS   \n",
       "4           737              73H            189        C    Type C      BS   \n",
       "5           330              333            297        C    Type C      BS   \n",
       "6           330              333            288        C    Type C      BS   \n",
       "7           330              333            288        C    Type C      BS   \n",
       "8           737              73H            189        C    Type C      AP   \n",
       "9           330              332            264        C    Type C      BS   \n",
       "\n",
       "   Flights            FirstBag             LastBag           Touchdown  \\\n",
       "0        1 2017-05-01 00:55:29 2017-05-01 00:59:52 2017-05-01 00:33:00   \n",
       "1        1 2017-05-01 00:42:37 2017-05-01 00:47:43 2017-05-01 00:20:00   \n",
       "2        1 2017-05-01 01:09:48 2017-05-01 01:16:36 2017-05-01 00:42:00   \n",
       "3        1 2017-05-01 02:17:07 2017-05-01 02:22:07 2017-05-01 02:02:00   \n",
       "4        1 2017-05-01 01:36:24 2017-05-01 01:39:28 2017-05-01 01:12:00   \n",
       "5        1 2017-05-01 05:34:15 2017-05-01 06:03:48 2017-05-01 05:04:00   \n",
       "6        1 2017-05-01 05:45:03 2017-05-01 05:54:48 2017-05-01 05:16:00   \n",
       "7        1 2017-05-01 06:25:48 2017-05-01 06:34:06 2017-05-01 05:53:00   \n",
       "8        1 2017-05-01 07:16:46 2017-05-01 07:21:58 2017-05-01 06:33:00   \n",
       "9        1 2017-05-01 07:11:18 2017-05-01 07:37:55 2017-05-01 06:49:00   \n",
       "\n",
       "          OnBlockTime      Month  Day No First Bag No Last Bag Parking Number  \n",
       "0 2017-05-01 00:40:00 1904-05-15    1          NaN         NaN           165R  \n",
       "1 2017-05-01 00:26:00 1904-05-15    1          NaN         NaN            208  \n",
       "2 2017-05-01 00:50:00 1904-05-15    1          NaN         NaN            152  \n",
       "3 2017-05-01 02:07:00 1904-05-15    1          NaN         NaN            209  \n",
       "4 2017-05-01 01:19:00 1904-05-15    1          NaN         NaN           211R  \n",
       "5 2017-05-01 05:09:00 1904-05-15    1          NaN         NaN            240  \n",
       "6 2017-05-01 05:22:00 1904-05-15    1          NaN         NaN           210L  \n",
       "7 2017-05-01 06:01:00 1904-05-15    1          NaN         NaN           206L  \n",
       "8 2017-05-01 06:41:00 1904-05-15    1          NaN         NaN           157R  \n",
       "9 2017-05-01 06:54:00 1904-05-15    1          NaN         NaN           237L  "
      ]
     },
     "execution_count": 3,
     "metadata": {},
     "output_type": "execute_result"
    }
   ],
   "source": [
    "df.shape\n",
    "df.head(10)"
   ]
  },
  {
   "cell_type": "markdown",
   "metadata": {},
   "source": [
    "feature and label calculation"
   ]
  },
  {
   "cell_type": "code",
   "execution_count": 4,
   "metadata": {},
   "outputs": [
    {
     "name": "stdout",
     "output_type": "stream",
     "text": [
      "Dropped -1585 rows\n"
     ]
    }
   ],
   "source": [
    "#label is time between on block and first bag\n",
    "df['TimeToFirstBag'] = (df['FirstBag']-df['OnBlockTime']).dt.total_seconds()/60\n",
    "df['TimeToLastBag'] = (df['LastBag']-df['OnBlockTime']).dt.total_seconds()/60\n",
    "\n",
    "#add date and time features\n",
    "df['Year'] = df.OnBlockTime.dt.year\n",
    "df['Quarter'] = df.OnBlockTime.dt.quarter\n",
    "df['Month'] = df.OnBlockTime.dt.month\n",
    "df['Week'] = df.OnBlockTime.dt.week\n",
    "df['Day'] = df.OnBlockTime.dt.day\n",
    "df['DayOfWeek'] = df.OnBlockTime.dt.dayofweek\n",
    "df['Hour'] = df.OnBlockTime.dt.hour\n",
    "df['Minute'] = df.OnBlockTime.dt.minute\n",
    "\n",
    "#set categorical features\n",
    "df['Airline'] = df['Airline'].astype('category')\n",
    "df['Aircraft Type'] = df['Aircraft Type'].astype('category')\n",
    "df['Acsbbgcl'] = df['Acsbbgcl'].astype('category')\n",
    "df['Handler'] = df['Handler'].astype('category')\n",
    "df = df.rename(columns={'Aircraft Type': 'AircraftType', 'Offered Seats': 'OfferedSeats', 'Acsbbgcl': 'AircraftClass'})\n",
    "\n",
    "#delete corrupt data\n",
    "before = df.shape[0]\n",
    "df = df.loc[(df['TimeToFirstBag']>0)&(df['TimeToLastBag']>=df['TimeToFirstBag'])]\n",
    "after = df.shape[0]\n",
    "print('Dropped %d rows' % (after-before))\n",
    "\n",
    "#select features to be used for prediction\n",
    "luggage_features = df[['Year', 'Quarter', 'Month', 'Week', 'Day', 'DayOfWeek', 'Hour', 'Minute', 'Airline', 'OfferedSeats', 'AircraftType', 'AircraftClass', 'Handler']]\n",
    "luggage_labels = df[['TimeToFirstBag','TimeToLastBag']]"
   ]
  },
  {
   "cell_type": "code",
   "execution_count": 5,
   "metadata": {},
   "outputs": [
    {
     "data": {
      "text/plain": [
       "(100770, 13)"
      ]
     },
     "execution_count": 5,
     "metadata": {},
     "output_type": "execute_result"
    }
   ],
   "source": [
    "luggage_features.shape"
   ]
  },
  {
   "cell_type": "code",
   "execution_count": 6,
   "metadata": {},
   "outputs": [
    {
     "data": {
      "text/plain": [
       "(100770, 2)"
      ]
     },
     "execution_count": 6,
     "metadata": {},
     "output_type": "execute_result"
    }
   ],
   "source": [
    "luggage_labels.shape"
   ]
  },
  {
   "cell_type": "markdown",
   "metadata": {},
   "source": [
    "split in train and test data"
   ]
  },
  {
   "cell_type": "code",
   "execution_count": 7,
   "metadata": {},
   "outputs": [
    {
     "data": {
      "text/plain": [
       "(30399, 13)"
      ]
     },
     "execution_count": 7,
     "metadata": {},
     "output_type": "execute_result"
    },
    {
     "data": {
      "text/plain": [
       "(30399, 2)"
      ]
     },
     "execution_count": 7,
     "metadata": {},
     "output_type": "execute_result"
    },
    {
     "data": {
      "text/plain": [
       "(70371, 13)"
      ]
     },
     "execution_count": 7,
     "metadata": {},
     "output_type": "execute_result"
    },
    {
     "data": {
      "text/plain": [
       "(70371, 2)"
      ]
     },
     "execution_count": 7,
     "metadata": {},
     "output_type": "execute_result"
    }
   ],
   "source": [
    "data_test = luggage_features.loc[(luggage_features['Year']==2018)]\n",
    "label_test = luggage_labels.loc[(luggage_features['Year']==2018)]\n",
    "data_train = luggage_features.loc[(luggage_features['Year']<2018)]\n",
    "label_train = luggage_labels.loc[(luggage_features['Year']<2018)]\n",
    "data_test.shape\n",
    "label_test.shape\n",
    "data_train.shape\n",
    "label_train.shape"
   ]
  },
  {
   "cell_type": "markdown",
   "metadata": {},
   "source": [
    "create model"
   ]
  },
  {
   "cell_type": "code",
   "execution_count": 9,
   "metadata": {},
   "outputs": [
    {
     "name": "stdout",
     "output_type": "stream",
     "text": [
      "[100]\ttrain's rmse: 7.45628\n",
      "[200]\ttrain's rmse: 7.22173\n",
      "[300]\ttrain's rmse: 7.0787\n",
      "[400]\ttrain's rmse: 6.97754\n",
      "[500]\ttrain's rmse: 6.90894\n",
      "[600]\ttrain's rmse: 6.84965\n",
      "[700]\ttrain's rmse: 6.80614\n",
      "[800]\ttrain's rmse: 6.76873\n",
      "[900]\ttrain's rmse: 6.73553\n",
      "[1000]\ttrain's rmse: 6.70685\n"
     ]
    },
    {
     "name": "stderr",
     "output_type": "stream",
     "text": [
      "C:\\Users\\verhoevt\\AppData\\Local\\Continuum\\miniconda3\\envs\\BAC-env\\lib\\site-packages\\lightgbm\\basic.py:681: UserWarning: categorical_feature in param dict is overridden.\n",
      "  warnings.warn('categorical_feature in param dict is overridden.')\n"
     ]
    },
    {
     "name": "stdout",
     "output_type": "stream",
     "text": [
      "[100]\ttrain's rmse: 43.2265\n",
      "[200]\ttrain's rmse: 41.8706\n",
      "[300]\ttrain's rmse: 40.651\n",
      "[400]\ttrain's rmse: 39.4966\n",
      "[500]\ttrain's rmse: 38.5207\n",
      "[600]\ttrain's rmse: 37.6105\n",
      "[700]\ttrain's rmse: 36.7683\n",
      "[800]\ttrain's rmse: 35.9653\n",
      "[900]\ttrain's rmse: 35.209\n",
      "[1000]\ttrain's rmse: 34.4789\n"
     ]
    }
   ],
   "source": [
    "dset_train_first = lgb.Dataset(data_train, label=label_train['TimeToFirstBag'].values.flatten(), feature_name='auto', categorical_feature='auto')\n",
    "dset_train_last = lgb.Dataset(data_train, label=label_train['TimeToLastBag'].values.flatten(), feature_name='auto', categorical_feature='auto')\n",
    "\n",
    "param_default = {'objective': 'rmse',\n",
    "                 'seed': 11,\n",
    "                 'num_threads': 48,\n",
    "                 'metric': 'rmse',\n",
    "                 'boosting': 'gbdt',\n",
    "                 'learning_rate': 0.01,\n",
    "                }\n",
    "gb_model_first = lgb.train(param_default, \n",
    "                     dset_train_first,\n",
    "                     num_boost_round = 1000,\n",
    "                     valid_sets = [dset_train_first],\n",
    "                     valid_names = ['train'],\n",
    "                     verbose_eval = 100)\n",
    "gb_model_last = lgb.train(param_default, \n",
    "                     dset_train_last,\n",
    "                     num_boost_round = 1000,\n",
    "                     valid_sets = [dset_train_last],\n",
    "                     valid_names = ['train'],\n",
    "                     verbose_eval = 100)"
   ]
  },
  {
   "cell_type": "code",
   "execution_count": 10,
   "metadata": {},
   "outputs": [],
   "source": [
    "result = label_test.copy()\n",
    "result['predict_first'] = gb_model_first.predict(data_test)\n",
    "result['predict_last'] = gb_model_last.predict(data_test)"
   ]
  },
  {
   "cell_type": "code",
   "execution_count": 12,
   "metadata": {},
   "outputs": [],
   "source": [
    "result['abs_error_first'] = abs(result['TimeToFirstBag']-result['predict_first'])\n",
    "result['abs_error_last'] = abs(result['TimeToLastBag']-result['predict_last'])"
   ]
  },
  {
   "cell_type": "code",
   "execution_count": 14,
   "metadata": {},
   "outputs": [
    {
     "data": {
      "text/plain": [
       "4.574709417818397"
      ]
     },
     "execution_count": 14,
     "metadata": {},
     "output_type": "execute_result"
    },
    {
     "data": {
      "text/plain": [
       "3.4116680108115673"
      ]
     },
     "execution_count": 14,
     "metadata": {},
     "output_type": "execute_result"
    },
    {
     "data": {
      "text/plain": [
       "92.0260534886016"
      ]
     },
     "execution_count": 14,
     "metadata": {},
     "output_type": "execute_result"
    },
    {
     "data": {
      "text/plain": [
       "67.72920161847429"
      ]
     },
     "execution_count": 14,
     "metadata": {},
     "output_type": "execute_result"
    },
    {
     "data": {
      "text/plain": [
       "30.662192835290636"
      ]
     },
     "execution_count": 14,
     "metadata": {},
     "output_type": "execute_result"
    },
    {
     "data": {
      "text/plain": [
       "15.849205565972564"
      ]
     },
     "execution_count": 14,
     "metadata": {},
     "output_type": "execute_result"
    },
    {
     "name": "stdout",
     "output_type": "stream",
     "text": [
      "--\n"
     ]
    },
    {
     "data": {
      "text/plain": [
       "6.037457459872567"
      ]
     },
     "execution_count": 14,
     "metadata": {},
     "output_type": "execute_result"
    },
    {
     "data": {
      "text/plain": [
       "4.400748165995697"
      ]
     },
     "execution_count": 14,
     "metadata": {},
     "output_type": "execute_result"
    },
    {
     "data": {
      "text/plain": [
       "85.88111451034574"
      ]
     },
     "execution_count": 14,
     "metadata": {},
     "output_type": "execute_result"
    },
    {
     "data": {
      "text/plain": [
       "55.9919734201783"
      ]
     },
     "execution_count": 14,
     "metadata": {},
     "output_type": "execute_result"
    },
    {
     "data": {
      "text/plain": [
       "23.948156189348335"
      ]
     },
     "execution_count": 14,
     "metadata": {},
     "output_type": "execute_result"
    },
    {
     "data": {
      "text/plain": [
       "12.095792624757394"
      ]
     },
     "execution_count": 14,
     "metadata": {},
     "output_type": "execute_result"
    }
   ],
   "source": [
    "#Average absolute error\n",
    "result['abs_error_first'].mean()\n",
    "result['abs_error_first'].median()\n",
    "#%of predictions within 10 minutes of true value\n",
    "100.0*result.loc[result['abs_error_first']<10].shape[0]/result.shape[0]\n",
    "100.0*result.loc[result['abs_error_first']<5].shape[0]/result.shape[0]\n",
    "100.0*result.loc[result['abs_error_first']<2].shape[0]/result.shape[0]\n",
    "100.0*result.loc[result['abs_error_first']<1].shape[0]/result.shape[0]\n",
    "\n",
    "#--\n",
    "print(\"--\")\n",
    "#Average absolute error\n",
    "result['abs_error_last'].mean()\n",
    "result['abs_error_last'].median()\n",
    "#%of predictions within 10 minutes of true value\n",
    "100.0*result.loc[result['abs_error_last']<10].shape[0]/result.shape[0]\n",
    "100.0*result.loc[result['abs_error_last']<5].shape[0]/result.shape[0]\n",
    "100.0*result.loc[result['abs_error_last']<2].shape[0]/result.shape[0]\n",
    "100.0*result.loc[result['abs_error_last']<1].shape[0]/result.shape[0]"
   ]
  },
  {
   "cell_type": "code",
   "execution_count": null,
   "metadata": {},
   "outputs": [],
   "source": []
  }
 ],
 "metadata": {
  "hide_input": false,
  "kernelspec": {
   "display_name": "Python 3",
   "language": "python",
   "name": "python3"
  },
  "language_info": {
   "codemirror_mode": {
    "name": "ipython",
    "version": 3
   },
   "file_extension": ".py",
   "mimetype": "text/x-python",
   "name": "python",
   "nbconvert_exporter": "python",
   "pygments_lexer": "ipython3",
   "version": "3.6.6"
  },
  "toc": {
   "base_numbering": 1,
   "nav_menu": {},
   "number_sections": true,
   "sideBar": true,
   "skip_h1_title": false,
   "title_cell": "Table of Contents",
   "title_sidebar": "Contents",
   "toc_cell": false,
   "toc_position": {},
   "toc_section_display": true,
   "toc_window_display": false
  },
  "varInspector": {
   "cols": {
    "lenName": 16,
    "lenType": 16,
    "lenVar": 40
   },
   "kernels_config": {
    "python": {
     "delete_cmd_postfix": "",
     "delete_cmd_prefix": "del ",
     "library": "var_list.py",
     "varRefreshCmd": "print(var_dic_list())"
    },
    "r": {
     "delete_cmd_postfix": ") ",
     "delete_cmd_prefix": "rm(",
     "library": "var_list.r",
     "varRefreshCmd": "cat(var_dic_list()) "
    }
   },
   "types_to_exclude": [
    "module",
    "function",
    "builtin_function_or_method",
    "instance",
    "_Feature"
   ],
   "window_display": false
  }
 },
 "nbformat": 4,
 "nbformat_minor": 4
}
